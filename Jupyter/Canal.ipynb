{
 "cells": [
  {
   "cell_type": "markdown",
   "id": "6644b09a-033b-43c7-881b-23c98e3ec9b5",
   "metadata": {},
   "source": [
    "**Importacion de las librerias**\n"
   ]
  },
  {
   "cell_type": "code",
   "execution_count": 11,
   "id": "17450237-ea8c-4f4d-ab38-7ef1f2450453",
   "metadata": {},
   "outputs": [],
   "source": [
    "import pandas as pd\n",
    "import matplotlib\n",
    "\n",
    "import numpy as np\n",
    "import math\n",
    "import datetime"
   ]
  },
  {
   "cell_type": "markdown",
   "id": "00a754e6-0508-49cd-9564-6e3c9212aa11",
   "metadata": {},
   "source": [
    "Funcion generadora de ruido gassiano utilizando le metodo de Box-Muller Transformation"
   ]
  },
  {
   "cell_type": "code",
   "execution_count": 12,
   "id": "e712029f-5c59-4890-8957-fdc41b566272",
   "metadata": {},
   "outputs": [],
   "source": [
    "def obtener_segundos_actual():\n",
    "    # Obtener la hora actual\n",
    "    hora_actual = datetime.datetime.now()\n",
    "    \n",
    "    # Extraer los segundos de la hora actual\n",
    "    segundos = hora_actual.second\n",
    "    \n",
    "    return segundos"
   ]
  },
  {
   "cell_type": "code",
   "execution_count": 13,
   "id": "ba6b3350-6563-4832-9bd5-8e17591eb572",
   "metadata": {},
   "outputs": [],
   "source": [
    "def obtener_minutos_actual():\n",
    "    # Obtener la hora actual\n",
    "    hora_actual = datetime.datetime.now()\n",
    "    \n",
    "    # Extraer los minutos de la hora actual\n",
    "    minutos = hora_actual.minute\n",
    "    \n",
    "    return minutos"
   ]
  },
  {
   "cell_type": "code",
   "execution_count": 14,
   "id": "6d8cd9b2-39d3-4254-8575-a68a93c1d934",
   "metadata": {},
   "outputs": [],
   "source": [
    "def obtener_hora_actual():\n",
    "    # Obtener la hora actual\n",
    "    hora_actual = datetime.datetime.now()\n",
    "    \n",
    "    # Extraer solo la hora actual\n",
    "    hora = hora_actual.hour\n",
    "    \n",
    "    return hora\n"
   ]
  },
  {
   "cell_type": "code",
   "execution_count": 15,
   "id": "a967b39d-9ff6-4faf-b4d4-da15e306df01",
   "metadata": {},
   "outputs": [],
   "source": [
    "\n",
    "\n",
    "PI = 3.1415926536\n",
    "\n",
    "def AWGN_generator():\n",
    "    \"\"\"Genera muestras de ruido gaussiano blanco con media cero y desviación estándar de uno.\"\"\"\n",
    "    while True:\n",
    "        temp2 = np.random.rand()\n",
    "        if temp2 != 0:\n",
    "            break\n",
    "\n",
    "    temp1 = np.cos(2.0 * PI * np.random.rand())\n",
    "    result = math.sqrt(-2.0 * math.log(temp2)) * temp1\n",
    "\n",
    "    # Escala el resultado al rango [-1, 1]\n",
    "    result = np.clip(result, -1, 1)\n",
    "    \n",
    "    return result\n"
   ]
  },
  {
   "cell_type": "code",
   "execution_count": 16,
   "id": "c7171506-808f-46a8-aee2-075d41a308a1",
   "metadata": {},
   "outputs": [],
   "source": [
    "# funcion aleatorizadora de semilla\n",
    "def random_semilla ():\n",
    "    np.random.seed(int(obtener_segundos_actual()*obtener_minutos_actual()*obtener_hora_actual()))\n",
    "    "
   ]
  },
  {
   "cell_type": "code",
   "execution_count": 17,
   "id": "ed044f73-fb01-4ea3-8d4d-2e6a38c45570",
   "metadata": {},
   "outputs": [],
   "source": [
    "def lector_csv():\n",
    "  \n",
    "    import pandas as pd\n",
    "\n",
    "    # Nombre del archivo CSV\n",
    "    archivo_csv = 'modulado.txt'\n",
    "    \n",
    "    # Cargar el archivo CSV en un DataFrame de Pandas\n",
    "    datos = pd.read_csv(archivo_csv, header=None)\n",
    "    \n",
    "    # Cambiar la letra 'i' por 'j' en cada dato y convertirlos en números complejos\n",
    "    datos[0] = datos[0].str.replace('i', 'j')\n",
    "    datos[0] = datos[0].apply(lambda x: complex(x))\n",
    "    \n",
    "    # Mostrar el DataFrame resultante\n",
    "    return datos\n",
    "    \n",
    "   "
   ]
  },
  {
   "cell_type": "code",
   "execution_count": 18,
   "id": "d4eb7aaa-70ab-4c92-a2c6-c28695a17f21",
   "metadata": {},
   "outputs": [],
   "source": [
    "def agregar_ruido(datos):\n",
    "    # Iterar sobre las filas del DataFrame\n",
    "    for indice_fila, fila in datos.iterrows():\n",
    "        # Iterar sobre los elementos de la fila\n",
    "        random_semilla ()\n",
    "        for indice_elemento, elemento in enumerate(fila):\n",
    "            random_semilla ()\n",
    "            # Separar la parte real e imaginaria del número complejo\n",
    "            parte_real, parte_imaginaria = np.real(elemento), np.imag(elemento)\n",
    "            # Generar ruido para la parte real e imaginaria\n",
    "            ruido_real, ruido_imaginario = AWGN_generator(), AWGN_generator()\n",
    "            # Agregar el ruido a la parte real e imaginaria\n",
    "            datos.iloc[indice_fila, indice_elemento] = parte_real + ruido_real + 1j * (parte_imaginaria + ruido_imaginario)\n",
    "    return datos"
   ]
  },
  {
   "cell_type": "code",
   "execution_count": 19,
   "id": "3b53db63-2edc-44ce-b474-2a831e42adb0",
   "metadata": {},
   "outputs": [
    {
     "name": "stdout",
     "output_type": "stream",
     "text": [
      "Los datos con ruido se han guardado en el archivo 'datos_con_ruido.csv'.\n"
     ]
    }
   ],
   "source": [
    "# Función para agregar ruido a los datos del DataFrame\n",
    "\n",
    "\n",
    "# Llamar a las funciones\n",
    "data_frame = lector_csv()\n",
    "datos_con_ruido = agregar_ruido(data_frame)\n",
    "\n",
    "datos_con_ruido[0] = datos_con_ruido[0].apply(lambda x: str(x))\n",
    "datos_con_ruido[0] = datos_con_ruido[0].str.replace('j', 'i')\n",
    "\n",
    "\n",
    "datos_con_ruido.to_csv('salida_canal.txt', index=False, header=None)\n",
    "\n",
    "# Imprimir un mensaje de confirmación\n",
    "print(\"Los datos con ruido se han guardado en el archivo 'datos_con_ruido.csv'.\")\n"
   ]
  },
  {
   "cell_type": "code",
   "execution_count": null,
   "id": "6389a494-c7e2-4d98-a473-9341a5281ee5",
   "metadata": {},
   "outputs": [],
   "source": []
  }
 ],
 "metadata": {
  "kernelspec": {
   "display_name": "Python 3 (ipykernel)",
   "language": "python",
   "name": "python3"
  },
  "language_info": {
   "codemirror_mode": {
    "name": "ipython",
    "version": 3
   },
   "file_extension": ".py",
   "mimetype": "text/x-python",
   "name": "python",
   "nbconvert_exporter": "python",
   "pygments_lexer": "ipython3",
   "version": "3.9.12"
  }
 },
 "nbformat": 4,
 "nbformat_minor": 5
}
