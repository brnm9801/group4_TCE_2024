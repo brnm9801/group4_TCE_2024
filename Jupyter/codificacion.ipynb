{
 "cells": [
  {
   "cell_type": "code",
   "execution_count": 7,
   "id": "08849c40-fe8b-4242-b836-09c2d882c522",
   "metadata": {},
   "outputs": [],
   "source": [
    "import numpy as np\n",
    "from scipy import stats\n",
    "from scipy.stats import t\n",
    "import pandas as pd\n",
    "import matplotlib.pyplot as plt\n",
    "import time"
   ]
  },
  {
   "cell_type": "code",
   "execution_count": 8,
   "id": "10f7be99-851e-4bb1-8fb9-79268fef96c3",
   "metadata": {},
   "outputs": [],
   "source": [
    "data = pd.read_excel('Dataset.xlsx')\n",
    "ppm=data['BPM']"
   ]
  },
  {
   "cell_type": "code",
   "execution_count": 15,
   "id": "6b8bcedd-3a27-428a-ba4a-9bb66137e54f",
   "metadata": {},
   "outputs": [
    {
     "name": "stdout",
     "output_type": "stream",
     "text": [
      "Tiempo promedio para Hamming (7,4)=    0.00212955117225647\n",
      "Tiempo promedio para Hamming (15,11)=    0.001289280652999878\n"
     ]
    }
   ],
   "source": [
    "def ints_to_binary_array(integers):\n",
    "    binary_array = [bin(num)[2:].zfill(8) for num in integers]\n",
    "    return binary_array\n",
    "ppm=round(ppm)\n",
    "n=len(ppm)\n",
    "mensaje=[]\n",
    "mensaje2=[]\n",
    "ppm=ppm.astype(int)\n",
    "binario = ints_to_binary_array(ppm)\n",
    "\n",
    "promedio=0\n",
    "for i in range(0,200):\n",
    "    start= time.time()\n",
    "    for i in range(0,n):\n",
    "        d=binario[i][0:4]\n",
    "        p1 =int(d[0])^int(d[1])^int(d[3])\n",
    "        p2 =int(d[0])^int(d[2])^int(d[3])\n",
    "        p3 =int(d[1])^int(d[2])^int(d[3])\n",
    "        mensaje.append([int(d[0]),int(d[1]),int(d[2]),int(d[3]),p1,p2,p3])\n",
    "        d=binario[i][4:8]\n",
    "        p11 =int(d[0])^int(d[1])^int(d[3])\n",
    "        p22 =int(d[0])^int(d[2])^int(d[3])\n",
    "        p33 =int(d[1])^int(d[2])^int(d[3])\n",
    "        mensaje.append([int(d[0]),int(d[1]),int(d[2]),int(d[3]),p11,p22,p33])\n",
    "    end=time.time()\n",
    "    promedio=(end - start)+promedio\n",
    "promedio=promedio/200\n",
    "print(\"Tiempo promedio para Hamming (7,4)=   \",promedio)\n",
    "hamming_15_11=[]\n",
    "promedio=0\n",
    "for i in range(0,200):\n",
    "    start= time.time()\n",
    "    for i in range(0,n):\n",
    "        d=binario[i][0:8]\n",
    "        p1 =int(d[0])^int(d[1])^int(d[3])\n",
    "        p2 =int(d[0])^int(d[2])^int(d[3])\n",
    "        p3 =int(d[1])^int(d[2])^int(d[3])\n",
    "        p11 =int(d[4])^int(d[5])^int(d[7])\n",
    "        p22 =int(d[4])^int(d[6])^int(d[7])\n",
    "        p33 =int(d[5])^int(d[6])^int(d[7])\n",
    "        hamming_15_11.append([int(d[0]),int(d[1]),int(d[2]),int(d[3]),int(d[4]),int(d[5]),int(d[6]),int(d[7]),p1,p2,p3,p11,p22,p33,0])\n",
    "    end=time.time()\n",
    "    promedio=(end - start)+promedio\n",
    "promedio=promedio/200\n",
    "print(\"Tiempo promedio para Hamming (15,11)=   \",promedio)  \n"
   ]
  },
  {
   "cell_type": "code",
   "execution_count": 20,
   "id": "8bd95d42-5eb9-4a0c-8628-0be30142824c",
   "metadata": {
    "scrolled": true
   },
   "outputs": [],
   "source": [
    "\n",
    "\n",
    "file_path = \"mensaje_hamming.txt\"\n",
    "\n",
    "# Open the file in write mode ('w')\n",
    "with open(file_path, 'w') as file:\n",
    "    # Write the data to the file\n",
    "    for i in range(0,n):\n",
    "        file.write(str(hamming_15_11[i]))\n",
    "        file.write(\",\")\n",
    "    \n",
    "\n",
    "\n"
   ]
  },
  {
   "cell_type": "code",
   "execution_count": null,
   "id": "7a74b070-8d6a-4582-b018-6f0503170e6b",
   "metadata": {},
   "outputs": [],
   "source": []
  }
 ],
 "metadata": {
  "kernelspec": {
   "display_name": "Python 3 (ipykernel)",
   "language": "python",
   "name": "python3"
  },
  "language_info": {
   "codemirror_mode": {
    "name": "ipython",
    "version": 3
   },
   "file_extension": ".py",
   "mimetype": "text/x-python",
   "name": "python",
   "nbconvert_exporter": "python",
   "pygments_lexer": "ipython3",
   "version": "3.11.7"
  }
 },
 "nbformat": 4,
 "nbformat_minor": 5
}
