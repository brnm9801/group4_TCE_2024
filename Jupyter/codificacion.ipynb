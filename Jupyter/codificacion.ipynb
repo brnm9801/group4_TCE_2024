{
 "cells": [
  {
   "cell_type": "code",
   "execution_count": 1,
   "id": "08849c40-fe8b-4242-b836-09c2d882c522",
   "metadata": {},
   "outputs": [],
   "source": [
    "import numpy as np\n",
    "from scipy import stats\n",
    "from scipy.stats import t\n",
    "import pandas as pd\n",
    "import matplotlib.pyplot as plt\n",
    "import time"
   ]
  },
  {
   "cell_type": "code",
   "execution_count": 49,
   "id": "10f7be99-851e-4bb1-8fb9-79268fef96c3",
   "metadata": {},
   "outputs": [],
   "source": [
    "data = pd.read_excel('Dataset.xlsx')\n",
    "ppm=data['BPM']"
   ]
  },
  {
   "cell_type": "code",
   "execution_count": 120,
   "id": "6b8bcedd-3a27-428a-ba4a-9bb66137e54f",
   "metadata": {},
   "outputs": [
    {
     "ename": "TypeError",
     "evalue": "list.append() takes exactly one argument (2 given)",
     "output_type": "error",
     "traceback": [
      "\u001b[1;31m---------------------------------------------------------------------------\u001b[0m",
      "\u001b[1;31mTypeError\u001b[0m                                 Traceback (most recent call last)",
      "Cell \u001b[1;32mIn[120], line 23\u001b[0m\n\u001b[0;32m     21\u001b[0m     \u001b[38;5;66;03m#mensaje2.append([binario[i][0:4],p1,p2,p3,0,binario[i][4:8],p11,p22,p33])\u001b[39;00m\n\u001b[0;32m     22\u001b[0m     mensaje2\u001b[38;5;241m.\u001b[39mappend(mensaje[i]\u001b[38;5;241m+\u001b[39mmensaje[i\u001b[38;5;241m+\u001b[39m\u001b[38;5;241m1\u001b[39m])\n\u001b[1;32m---> 23\u001b[0m     mensaje2\u001b[38;5;241m.\u001b[39mappend(mensaje2[i],\u001b[38;5;241m0\u001b[39m)\n\u001b[0;32m     24\u001b[0m \u001b[38;5;28mprint\u001b[39m(mensaje2[\u001b[38;5;241m1\u001b[39m])\n\u001b[0;32m     25\u001b[0m \u001b[38;5;28mprint\u001b[39m(mensaje[\u001b[38;5;241m2\u001b[39m:\u001b[38;5;241m4\u001b[39m])\n",
      "\u001b[1;31mTypeError\u001b[0m: list.append() takes exactly one argument (2 given)"
     ]
    }
   ],
   "source": [
    "def ints_to_binary_array(integers):\n",
    "    binary_array = [bin(num)[2:].zfill(8) for num in integers]\n",
    "    return binary_array\n",
    "ppm=round(ppm)\n",
    "n=len(ppm)\n",
    "mensaje=[]\n",
    "mensaje2=[]\n",
    "ppm=ppm.astype(int)\n",
    "binario = ints_to_binary_array(ppm)\n",
    "for i in range(0,n):\n",
    "    d=binario[i][0:4]\n",
    "    p1 =int(d[0])^int(d[1])^int(d[3])\n",
    "    p2 =int(d[0])^int(d[2])^int(d[3])\n",
    "    p3 =int(d[1])^int(d[2])^int(d[3])\n",
    "    mensaje.append([int(d[0]),int(d[1]),int(d[2]),int(d[3]),p1,p2,p3])\n",
    "    d=binario[i][4:8]\n",
    "    p11 =int(d[0])^int(d[1])^int(d[3])\n",
    "    p22 =int(d[0])^int(d[2])^int(d[3])\n",
    "    p33 =int(d[1])^int(d[2])^int(d[3])\n",
    "    mensaje.append([int(d[0]),int(d[1]),int(d[2]),int(d[3]),p11,p22,p33])\n",
    "    #mensaje2.append([binario[i][0:4],p1,p2,p3,0,binario[i][4:8],p11,p22,p33])\n",
    "    mensaje2.append(mensaje[i]+mensaje[i+1])\n",
    "print(mensaje2[1])\n",
    "print(mensaje[2:4])\n",
    "    \n"
   ]
  },
  {
   "cell_type": "code",
   "execution_count": 92,
   "id": "8bd95d42-5eb9-4a0c-8628-0be30142824c",
   "metadata": {
    "scrolled": true
   },
   "outputs": [
    {
     "name": "stdout",
     "output_type": "stream",
     "text": [
      "0101\n",
      "\n",
      "\n",
      "1011\n"
     ]
    }
   ],
   "source": [
    "print(binario[0][0:4])\n",
    "print(\"\\n\")\n",
    "print(binario[0][4:9])"
   ]
  },
  {
   "cell_type": "code",
   "execution_count": 97,
   "id": "9b3e09e0-9a1d-48dd-9f3e-d515c792157b",
   "metadata": {},
   "outputs": [
    {
     "name": "stdout",
     "output_type": "stream",
     "text": [
      "01011010\n"
     ]
    }
   ],
   "source": [
    "print(binario[0])"
   ]
  },
  {
   "cell_type": "code",
   "execution_count": null,
   "id": "c6c3946a-3408-4642-9f13-43de06046587",
   "metadata": {},
   "outputs": [],
   "source": []
  }
 ],
 "metadata": {
  "kernelspec": {
   "display_name": "Python 3 (ipykernel)",
   "language": "python",
   "name": "python3"
  },
  "language_info": {
   "codemirror_mode": {
    "name": "ipython",
    "version": 3
   },
   "file_extension": ".py",
   "mimetype": "text/x-python",
   "name": "python",
   "nbconvert_exporter": "python",
   "pygments_lexer": "ipython3",
   "version": "3.11.7"
  }
 },
 "nbformat": 4,
 "nbformat_minor": 5
}
