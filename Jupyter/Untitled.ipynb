{
 "cells": [
  {
   "cell_type": "code",
   "execution_count": 9,
   "id": "a9fd0e47-9ab1-4be3-bb3d-1ac706dda16d",
   "metadata": {},
   "outputs": [
    {
     "name": "stdout",
     "output_type": "stream",
     "text": [
      "Encoded bits: [0, 1, 1, 0, 0, 1, 1]\n",
      "Encoded bits with error: [0, 1, 1, 0, 0, 1, 1]\n",
      "Decoded bits: [1, 0, 1, 1]\n"
     ]
    }
   ],
   "source": [
    "def hamming_7_4_encode(data_bits):\n",
    "    if len(data_bits) != 4:\n",
    "        raise ValueError(\"Input must be a 4-bit binary sequence\")\n",
    "\n",
    "    # Initialize the encoded bits with placeholders for parity bits\n",
    "    encoded_bits = [0] * 7\n",
    "\n",
    "    # Assign data bits to their positions\n",
    "    encoded_bits[2] = data_bits[0]\n",
    "    encoded_bits[4] = data_bits[1]\n",
    "    encoded_bits[5] = data_bits[2]\n",
    "    encoded_bits[6] = data_bits[3]\n",
    "\n",
    "    # Calculate parity bits\n",
    "    encoded_bits[0] = encoded_bits[2] ^ encoded_bits[4] ^ encoded_bits[6]\n",
    "    encoded_bits[1] = encoded_bits[2] ^ encoded_bits[5] ^ encoded_bits[6]\n",
    "    encoded_bits[3] = encoded_bits[4] ^ encoded_bits[5] ^ encoded_bits[6]\n",
    "\n",
    "    return encoded_bits\n",
    "\n",
    "def hamming_7_4_decode(encoded_bits):\n",
    "    if len(encoded_bits) != 7:\n",
    "        raise ValueError(\"Input must be a 7-bit binary sequence\")\n",
    "\n",
    "    # Calculate parity checks\n",
    "    p1 = encoded_bits[0] ^ encoded_bits[2] ^ encoded_bits[4] ^ encoded_bits[6]\n",
    "    p2 = encoded_bits[1] ^ encoded_bits[2] ^ encoded_bits[5] ^ encoded_bits[6]\n",
    "    p4 = encoded_bits[3] ^ encoded_bits[4] ^ encoded_bits[5] ^ encoded_bits[6]\n",
    "\n",
    "    # Calculate error position (0 if no error)\n",
    "    error_position = p1 + (p2 << 1) + (p4 << 2)\n",
    "\n",
    "    if error_position != 0:\n",
    "        print(f\"Error detected at position {error_position}, correcting error.\")\n",
    "        encoded_bits[error_position - 1] ^= 1  # Correct the error\n",
    "\n",
    "    # Extract data bits\n",
    "    data_bits = [encoded_bits[2], encoded_bits[4], encoded_bits[5], encoded_bits[6]]\n",
    "    return data_bits\n",
    "\n",
    "# Example usage\n",
    "data_bits = [1, 0, 1, 1]\n",
    "encoded_bits = hamming_7_4_encode(data_bits)\n",
    "print(\"Encoded bits:\", encoded_bits)\n",
    "\n",
    "# Introduce an error for testing\n",
    "encoded_bits_with_error = encoded_bits.copy()\n",
    "#encoded_bits_with_error[0] ^= 1  # Flip a bit to introduce an error\n",
    "print(\"Encoded bits with error:\", encoded_bits_with_error)\n",
    "\n",
    "decoded_bits = hamming_7_4_decode(encoded_bits_with_error)\n",
    "print(\"Decoded bits:\", decoded_bits)\n"
   ]
  },
  {
   "cell_type": "code",
   "execution_count": null,
   "id": "7b70da65-78a7-453f-8289-6c19f78dac4f",
   "metadata": {},
   "outputs": [],
   "source": []
  },
  {
   "cell_type": "code",
   "execution_count": null,
   "id": "ba565fd4-f516-4645-a71e-12a04fc7650b",
   "metadata": {},
   "outputs": [],
   "source": []
  }
 ],
 "metadata": {
  "kernelspec": {
   "display_name": "Python 3 (ipykernel)",
   "language": "python",
   "name": "python3"
  },
  "language_info": {
   "codemirror_mode": {
    "name": "ipython",
    "version": 3
   },
   "file_extension": ".py",
   "mimetype": "text/x-python",
   "name": "python",
   "nbconvert_exporter": "python",
   "pygments_lexer": "ipython3",
   "version": "3.11.7"
  }
 },
 "nbformat": 4,
 "nbformat_minor": 5
}
